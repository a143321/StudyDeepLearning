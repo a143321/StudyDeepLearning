{
 "cells": [
  {
   "cell_type": "code",
   "execution_count": 73,
   "metadata": {},
   "outputs": [],
   "source": [
    "import numpy as np\n",
    "import pandas as pd\n",
    "from IPython.display import Image, display_png"
   ]
  },
  {
   "cell_type": "markdown",
   "metadata": {},
   "source": [
    "論理演算のANDは以下のようになります。"
   ]
  },
  {
   "cell_type": "code",
   "execution_count": 74,
   "metadata": {},
   "outputs": [],
   "source": [
    "signal = pd.DataFrame(\n",
    "    [\n",
    "        [0,0],\n",
    "        [1,0],\n",
    "        [0,1],\n",
    "        [1,1]\n",
    "    ],\n",
    "    \n",
    "    columns = [\"x1\", \"x2\"]\n",
    ")"
   ]
  },
  {
   "cell_type": "code",
   "execution_count": 75,
   "metadata": {},
   "outputs": [
    {
     "data": {
      "text/html": [
       "<div>\n",
       "<style scoped>\n",
       "    .dataframe tbody tr th:only-of-type {\n",
       "        vertical-align: middle;\n",
       "    }\n",
       "\n",
       "    .dataframe tbody tr th {\n",
       "        vertical-align: top;\n",
       "    }\n",
       "\n",
       "    .dataframe thead th {\n",
       "        text-align: right;\n",
       "    }\n",
       "</style>\n",
       "<table border=\"1\" class=\"dataframe\">\n",
       "  <thead>\n",
       "    <tr style=\"text-align: right;\">\n",
       "      <th></th>\n",
       "      <th>x1</th>\n",
       "      <th>x2</th>\n",
       "      <th>y</th>\n",
       "    </tr>\n",
       "  </thead>\n",
       "  <tbody>\n",
       "    <tr>\n",
       "      <th>0</th>\n",
       "      <td>0</td>\n",
       "      <td>0</td>\n",
       "      <td>0</td>\n",
       "    </tr>\n",
       "    <tr>\n",
       "      <th>1</th>\n",
       "      <td>1</td>\n",
       "      <td>0</td>\n",
       "      <td>0</td>\n",
       "    </tr>\n",
       "    <tr>\n",
       "      <th>2</th>\n",
       "      <td>0</td>\n",
       "      <td>1</td>\n",
       "      <td>0</td>\n",
       "    </tr>\n",
       "    <tr>\n",
       "      <th>3</th>\n",
       "      <td>1</td>\n",
       "      <td>1</td>\n",
       "      <td>1</td>\n",
       "    </tr>\n",
       "  </tbody>\n",
       "</table>\n",
       "</div>"
      ],
      "text/plain": [
       "   x1  x2  y\n",
       "0   0   0  0\n",
       "1   1   0  0\n",
       "2   0   1  0\n",
       "3   1   1  1"
      ]
     },
     "execution_count": 75,
     "metadata": {},
     "output_type": "execute_result"
    }
   ],
   "source": [
    "# AND\n",
    "AND = signal.copy()\n",
    "AND[\"y\"] = signal.x1 & signal.x2\n",
    "AND"
   ]
  },
  {
   "cell_type": "markdown",
   "metadata": {},
   "source": [
    "\n",
    "以下の図のようなパーセプトロンで論理演算のANDを実装することを考えます。\n",
    "\n",
    "x1，x2：入力層\n",
    "\n",
    "y：出力層\n",
    "\n",
    "w1，w2：入力層と出力層のユニット（ニューロン）の結合の強さを表す係数 (結合係数)\n",
    "\n",
    "b：バイアス\n",
    "\n",
    "θ：ステップ関数\n",
    "\n",
    "ちなみにここでいうバイアスというのは偏りのことです"
   ]
  },
  {
   "cell_type": "code",
   "execution_count": 76,
   "metadata": {},
   "outputs": [
    {
     "data": {
      "image/png": "[encoded data removed]"
     },
     "metadata": {},
     "output_type": "display_data"
    }
   ],
   "source": [
    "display_png(Image('Simple_Perceptron1.PNG'))"
   ]
  },
  {
   "cell_type": "markdown",
   "metadata": {},
   "source": [
    "このネットワークは，2入力，1出力です。\n",
    "\n",
    "いつも1が入力されてくるユニットを付け加えて3入力1出力のネットワークとみなすとプログラムしやすくなります。\n",
    "\n",
    "その場合、以下のような図になります。"
   ]
  },
  {
   "cell_type": "code",
   "execution_count": 77,
   "metadata": {},
   "outputs": [
    {
     "data": {
      "image/png": "[encoded data removed]"
     },
     "metadata": {},
     "output_type": "display_data"
    }
   ],
   "source": [
    "display_png(Image('Simple_Perceptron2.PNG'))"
   ]
  },
  {
   "cell_type": "markdown",
   "metadata": {},
   "source": [
    "次に、ステップ関数を定義します。\n",
    "\n",
    "ステップ関数とは、入力が0を超えたら1を出力し、それ以外は0を出力する関数です。"
   ]
  },
  {
   "cell_type": "code",
   "execution_count": 78,
   "metadata": {},
   "outputs": [],
   "source": [
    "def step(x):\n",
    "    if x > 0 :\n",
    "        return 1\n",
    "    else :\n",
    "        return 0"
   ]
  },
  {
   "cell_type": "code",
   "execution_count": 79,
   "metadata": {},
   "outputs": [],
   "source": [
    "def And(x1, x2):\n",
    "    x = np.array([1, x1, x2])\n",
    "    \n",
    "    # 結合係数　w1 = 0.5 w2 = 0.5 バイアス b = -0.7\n",
    "    b = -0.7\n",
    "    \n",
    "    w = np.array([b, 0.5, 0.5])\n",
    "    \n",
    "    # 以下は「tmp = np.sum(x * w)」と同一\n",
    "    tmp = np.sum(np.dot(x, w))\n",
    "    \n",
    "    return step(tmp)"
   ]
  },
  {
   "cell_type": "code",
   "execution_count": 80,
   "metadata": {},
   "outputs": [
    {
     "name": "stdout",
     "output_type": "stream",
     "text": [
      "0\n",
      "0\n",
      "0\n",
      "1\n"
     ]
    }
   ],
   "source": [
    "print(And(0,0))\n",
    "print(And(1,0))\n",
    "print(And(0,1))\n",
    "print(And(1,1))"
   ]
  },
  {
   "cell_type": "markdown",
   "metadata": {},
   "source": [
    "今はANDになるように、結合係数(w1,w2)やバイアス(b)は手動で与えましたが、学習によって決めます。"
   ]
  },
  {
   "cell_type": "code",
   "execution_count": 81,
   "metadata": {},
   "outputs": [
    {
     "name": "stdout",
     "output_type": "stream",
     "text": [
      "w = <class 'numpy.ndarray'>\n"
     ]
    }
   ],
   "source": [
    "# 各点での学習を50回繰り返す\n",
    "epoch = 50\n",
    "\n",
    "# 学習の進み方を調節するパラメータ\n",
    "eta = 0.1\n",
    "\n",
    "# 係数の初期設定 (b, w1, w2)\n",
    "w = np.array([0.0, 0.0, 0.0])\n",
    "\n",
    "print(f\"w = {type(w)}\")\n",
    "\n",
    "# 1つ前のステップでの係数を入れておくための変数\n",
    "w_prev = w\n",
    "\n",
    "# 学習の書くステップでの係数を追加していくためのnumpy配列\n",
    "ws = w\n",
    "\n",
    "# 学習データ\n",
    "x_train = [[1,0,0], [1,0,1], [1,1,0], [1,1,1]]\n",
    "\n",
    "# 教師ラベル\n",
    "y_train = [0, 0, 0, 1]\n",
    "\n",
    "for i in range(epoch):\n",
    "    for x, y in zip(x_train, y_train):\n",
    "        output = step(np.sum(w*x))\n",
    "        \n",
    "        # b, w1, w2の係数を決めます\n",
    "        for j in range(len(w)):\n",
    "            w[j] = w[j] + (y-output) * x[j] * eta\n",
    "        \n",
    "    # 各ステップでの係数を追加したnumpy配列を作る\n",
    "    ws = np.append(ws, w)\n",
    "    \n",
    "    # print(w)\n",
    "    # 1つ前のステップの係数を新しく求められた係数に置き換える\n",
    "    w_prev = w\n",
    "\n",
    "# 各ステップの係数を貯めたwvecsは1次元のnumpy配列にしていたので\n",
    "# 各ステップ毎の多次元配列になるように整形する\n",
    "ws = ws.reshape(-1,3)"
   ]
  },
  {
   "cell_type": "markdown",
   "metadata": {},
   "source": [
    "学習の経過も含めて表示する (b, w1, w2)"
   ]
  },
  {
   "cell_type": "code",
   "execution_count": 82,
   "metadata": {},
   "outputs": [
    {
     "name": "stdout",
     "output_type": "stream",
     "text": [
      "[[ 0.1  0.1  0.1]\n",
      " [ 0.1  0.1  0.1]\n",
      " [ 0.   0.2  0.1]\n",
      " [-0.1  0.2  0.1]\n",
      " [-0.1  0.2  0.2]\n",
      " [-0.2  0.2  0.1]\n",
      " [-0.2  0.2  0.1]\n",
      " [-0.2  0.2  0.1]\n",
      " [-0.2  0.2  0.1]\n",
      " [-0.2  0.2  0.1]\n",
      " [-0.2  0.2  0.1]\n",
      " [-0.2  0.2  0.1]\n",
      " [-0.2  0.2  0.1]\n",
      " [-0.2  0.2  0.1]\n",
      " [-0.2  0.2  0.1]\n",
      " [-0.2  0.2  0.1]\n",
      " [-0.2  0.2  0.1]\n",
      " [-0.2  0.2  0.1]\n",
      " [-0.2  0.2  0.1]\n",
      " [-0.2  0.2  0.1]\n",
      " [-0.2  0.2  0.1]\n",
      " [-0.2  0.2  0.1]\n",
      " [-0.2  0.2  0.1]\n",
      " [-0.2  0.2  0.1]\n",
      " [-0.2  0.2  0.1]\n",
      " [-0.2  0.2  0.1]\n",
      " [-0.2  0.2  0.1]\n",
      " [-0.2  0.2  0.1]\n",
      " [-0.2  0.2  0.1]\n",
      " [-0.2  0.2  0.1]\n",
      " [-0.2  0.2  0.1]\n",
      " [-0.2  0.2  0.1]\n",
      " [-0.2  0.2  0.1]\n",
      " [-0.2  0.2  0.1]\n",
      " [-0.2  0.2  0.1]\n",
      " [-0.2  0.2  0.1]\n",
      " [-0.2  0.2  0.1]\n",
      " [-0.2  0.2  0.1]\n",
      " [-0.2  0.2  0.1]\n",
      " [-0.2  0.2  0.1]\n",
      " [-0.2  0.2  0.1]\n",
      " [-0.2  0.2  0.1]\n",
      " [-0.2  0.2  0.1]\n",
      " [-0.2  0.2  0.1]\n",
      " [-0.2  0.2  0.1]\n",
      " [-0.2  0.2  0.1]\n",
      " [-0.2  0.2  0.1]\n",
      " [-0.2  0.2  0.1]\n",
      " [-0.2  0.2  0.1]\n",
      " [-0.2  0.2  0.1]\n",
      " [-0.2  0.2  0.1]]\n"
     ]
    }
   ],
   "source": [
    "print(ws)"
   ]
  },
  {
   "cell_type": "markdown",
   "metadata": {},
   "source": [
    "上記の学習で求めたバイアス、結合係数をAndの演算結果を求める式に適用する"
   ]
  },
  {
   "cell_type": "code",
   "execution_count": 83,
   "metadata": {},
   "outputs": [],
   "source": [
    "def And2(x1, x2):\n",
    "    x = np.array([1, x1, x2])\n",
    "    \n",
    "    # バイアス b = -0.2\n",
    "    # 結合係数 w1 = 0.2\n",
    "    # 結合係数 w2 = 0.1\n",
    "    b = -0.2\n",
    "    w1 = 0.2\n",
    "    w2 = 0.1\n",
    "    \n",
    "    w = np.array([b, w1, w2])\n",
    "    \n",
    "    # 以下は「tmp = np.sum(x * w)」と同一\n",
    "    tmp = np.sum(np.dot(x, w))\n",
    "    \n",
    "    return step(tmp)"
   ]
  },
  {
   "cell_type": "markdown",
   "metadata": {},
   "source": [
    "上記の関数の結果を確認する"
   ]
  },
  {
   "cell_type": "code",
   "execution_count": 84,
   "metadata": {},
   "outputs": [
    {
     "name": "stdout",
     "output_type": "stream",
     "text": [
      "0\n",
      "0\n",
      "0\n",
      "1\n"
     ]
    }
   ],
   "source": [
    "print(And2(0,0))\n",
    "print(And2(1,0))\n",
    "print(And2(0,1))\n",
    "print(And2(1,1))"
   ]
  },
  {
   "cell_type": "code",
   "execution_count": null,
   "metadata": {},
   "outputs": [],
   "source": []
  },
  {
   "cell_type": "code",
   "execution_count": null,
   "metadata": {},
   "outputs": [],
   "source": []
  }
 ],
 "metadata": {
  "kernelspec": {
   "display_name": "Python 3",
   "language": "python",
   "name": "python3"
  },
  "language_info": {
   "codemirror_mode": {
    "name": "ipython",
    "version": 3
   },
   "file_extension": ".py",
   "mimetype": "text/x-python",
   "name": "python",
   "nbconvert_exporter": "python",
   "pygments_lexer": "ipython3",
   "version": "3.7.2"
  }
 },
 "nbformat": 4,
 "nbformat_minor": 2
}
